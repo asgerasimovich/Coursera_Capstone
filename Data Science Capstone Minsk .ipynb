{
    "nbformat_minor": 1, 
    "cells": [
        {
            "source": "<h1>Data Science Capstone Project - Minsk restaurants</h1>", 
            "cell_type": "markdown", 
            "metadata": {
                "collapsed": true
            }
        }, 
        {
            "source": "<h2>Introduction</h2>", 
            "cell_type": "markdown", 
            "metadata": {}
        }, 
        {
            "source": "Minsk is a fast developing business and cultural center of Belarus. Over the last 5 years the number of restaurants has trippled, the growing market makes investors become more interested in the location. The aim of this project is to specify most attractive Misnk district to open a fast-food restaurant.", 
            "cell_type": "markdown", 
            "metadata": {}
        }, 
        {
            "source": "<h2> Data </h2>", 
            "cell_type": "markdown", 
            "metadata": {}
        }, 
        {
            "source": "The soluition will be based on analysis of most popular fast-food restaurants according to Foursquare information. The restaurants will be clustered to search for a point with radius ", 
            "cell_type": "markdown", 
            "metadata": {}
        }, 
        {
            "execution_count": null, 
            "cell_type": "code", 
            "metadata": {}, 
            "outputs": [], 
            "source": ""
        }
    ], 
    "metadata": {
        "kernelspec": {
            "display_name": "Python 3.6", 
            "name": "python3", 
            "language": "python"
        }, 
        "language_info": {
            "mimetype": "text/x-python", 
            "nbconvert_exporter": "python", 
            "version": "3.6.8", 
            "name": "python", 
            "file_extension": ".py", 
            "pygments_lexer": "ipython3", 
            "codemirror_mode": {
                "version": 3, 
                "name": "ipython"
            }
        }
    }, 
    "nbformat": 4
}